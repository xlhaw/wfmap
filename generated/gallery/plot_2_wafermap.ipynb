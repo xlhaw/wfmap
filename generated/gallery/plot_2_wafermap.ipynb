{
  "cells": [
    {
      "cell_type": "code",
      "execution_count": null,
      "metadata": {
        "collapsed": false
      },
      "outputs": [],
      "source": [
        "%matplotlib inline"
      ]
    },
    {
      "cell_type": "markdown",
      "metadata": {},
      "source": [
        "\nWaferMap `wafermap`\n=================================\n> WaferMap with Distribution & Median Trend Subplots\n\nWaferMap add additional color distribution plot and trend charts by row/col around basic NumHeatmap.Color distribution plot shares the same limit as colorbar from heatmap. And vertical and horizonal trend charts is only diplayed when `wftype` is provided, since the grid line are using the pre-defined flash field boundary by `wftype`.\n"
      ]
    },
    {
      "cell_type": "code",
      "execution_count": null,
      "metadata": {
        "collapsed": false
      },
      "outputs": [],
      "source": [
        "from wfmap.data import load_data\nfrom wfmap import wafermap\n\ndata = load_data()\nfig = wafermap(data, 'MR', wftype='UP3')"
      ]
    }
  ],
  "metadata": {
    "kernelspec": {
      "display_name": "Python 3",
      "language": "python",
      "name": "python3"
    },
    "language_info": {
      "codemirror_mode": {
        "name": "ipython",
        "version": 3
      },
      "file_extension": ".py",
      "mimetype": "text/x-python",
      "name": "python",
      "nbconvert_exporter": "python",
      "pygments_lexer": "ipython3",
      "version": "3.9.12"
    }
  },
  "nbformat": 4,
  "nbformat_minor": 0
}