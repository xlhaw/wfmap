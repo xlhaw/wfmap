{
  "cells": [
    {
      "cell_type": "code",
      "execution_count": null,
      "metadata": {
        "collapsed": false
      },
      "outputs": [],
      "source": [
        "%matplotlib inline"
      ]
    },
    {
      "cell_type": "markdown",
      "metadata": {},
      "source": [
        "\nCategorical Heatmap `cat_heatmap`\n=================================\n> WaferMap for Categorical Variable\n\n`cat_heatmap` is essentially a variant of `num_heatmap`. Internally, the categorical variable is  first transformed to integers according to the rank of each unique count. And then plot the heatmap using the intermediate numbers.\n\nBelow example demonstrates the simplest case of creating a categorical heatmap. You can have more customization by providing `code_dict` if you want to have some transformation before the plotting, eg. merge some items or change perticular item name. You can also set the `qty_limit` to control the max items will be presented in the plot, categories which are beyond the `qty_limit` will be counted together as `Others`.\n"
      ]
    },
    {
      "cell_type": "code",
      "execution_count": null,
      "metadata": {
        "collapsed": false
      },
      "outputs": [],
      "source": [
        "from wfmap.data import load_data\nfrom wfmap import cat_heatmap\n\ndata = load_data()\nfig = cat_heatmap(data, 'DEFECT')"
      ]
    }
  ],
  "metadata": {
    "kernelspec": {
      "display_name": "Python 3",
      "language": "python",
      "name": "python3"
    },
    "language_info": {
      "codemirror_mode": {
        "name": "ipython",
        "version": 3
      },
      "file_extension": ".py",
      "mimetype": "text/x-python",
      "name": "python",
      "nbconvert_exporter": "python",
      "pygments_lexer": "ipython3",
      "version": "3.9.12"
    }
  },
  "nbformat": 4,
  "nbformat_minor": 0
}