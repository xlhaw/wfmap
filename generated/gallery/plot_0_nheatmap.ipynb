{
  "cells": [
    {
      "cell_type": "code",
      "execution_count": null,
      "metadata": {
        "collapsed": false
      },
      "outputs": [],
      "source": [
        "%matplotlib inline"
      ]
    },
    {
      "cell_type": "markdown",
      "metadata": {},
      "source": [
        "\nNumerical Heatmap `num_heatmap`\n=================================\n> WaferMap for Numerical Variable\n\n`num_heatmap` uses the colormap `jet` which present high value with hot color(red) and low value with cold value(blue). This example demonstrates how to use the sample data to create simple WaferMap at ease.  `MAP_ROW` & `MAP_COL` are the default value for wafer `row` & `col`, need be replaced if it's different from your data.\n"
      ]
    },
    {
      "cell_type": "code",
      "execution_count": null,
      "metadata": {
        "collapsed": false
      },
      "outputs": [],
      "source": [
        "import numpy as np\nfrom wfmap.data import load_data\nfrom wfmap import num_heatmap\nimport matplotlib.pyplot as plt\n\ndata = load_data()\nax = num_heatmap(data, 'MR')\nplt.tight_layout()"
      ]
    },
    {
      "cell_type": "markdown",
      "metadata": {},
      "source": [
        "Usually, the range of colorbar is auto inferred by majority of center population, which suggests the range might not be consistent for the same parameter by different wafers. If you want to have more subtle colorbar control, you can provide the est.sigma of value `vsigma` or value range `vrange` to keep the colorbar to have a fixed range.\n\n"
      ]
    },
    {
      "cell_type": "code",
      "execution_count": null,
      "metadata": {
        "collapsed": false
      },
      "outputs": [],
      "source": [
        "def auto_vlim(series, majority=94, n_sigma=3, vsigma=None, vrange=None):\n    \"\"\"\n    Infer the best range of a series for plotting\n    \"\"\"\n    low, high = np.percentile(series.dropna(), [50-majority/2, 50+majority/2])\n    centers = series.where((series >= low) & (series <= high), np.nan)\n    if vsigma == None:\n        vsigma = centers.std()\n    if vrange:\n        vmin = (low+high-vrange)/2\n        vmax = (low+high+vrange)/2\n    else:\n        vmax = centers.mean()+n_sigma*vsigma\n        vmin = centers.mean()-n_sigma*vsigma\n    return vmin, vmax"
      ]
    }
  ],
  "metadata": {
    "kernelspec": {
      "display_name": "Python 3",
      "language": "python",
      "name": "python3"
    },
    "language_info": {
      "codemirror_mode": {
        "name": "ipython",
        "version": 3
      },
      "file_extension": ".py",
      "mimetype": "text/x-python",
      "name": "python",
      "nbconvert_exporter": "python",
      "pygments_lexer": "ipython3",
      "version": "3.7.4"
    }
  },
  "nbformat": 4,
  "nbformat_minor": 0
}