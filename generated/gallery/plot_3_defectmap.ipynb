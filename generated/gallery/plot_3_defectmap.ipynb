{
  "cells": [
    {
      "cell_type": "code",
      "execution_count": null,
      "metadata": {
        "collapsed": false
      },
      "outputs": [],
      "source": [
        "%matplotlib inline"
      ]
    },
    {
      "cell_type": "markdown",
      "metadata": {},
      "source": [
        "\nDefectMap `defectmap`\n=================================\n> Wafer DefectMap with Pareto Subplot\n\nDefectMap is aimed for defect analysis, beside the defect distribution by `cat_heatmap`, yield summary and top defect statistics are also applied by using inset pie chart and bar chart subplot.\n\nUnlike in the `cat_heatmap`, categories are ordered by unique count in default. `defectmap` use the 'OK' as the top category and set it with `lightgreen` color. You can UAI other codes eg. 'BINA','BINB' as `OK` by update the `ok_codes`.\n"
      ]
    },
    {
      "cell_type": "code",
      "execution_count": null,
      "metadata": {
        "collapsed": false
      },
      "outputs": [],
      "source": [
        "import random\nfrom wfmap.data import load_data\nfrom wfmap import defectmap\n\ndata = load_data()\nfig = defectmap(data, 'DEFECT')"
      ]
    },
    {
      "cell_type": "markdown",
      "metadata": {},
      "source": [
        "Above example used the default defect code from sample data, you change it to more reader-friendly and meaningful remark by modify the `code_dict` as below.\n\n"
      ]
    },
    {
      "cell_type": "code",
      "execution_count": null,
      "metadata": {
        "collapsed": false
      },
      "outputs": [],
      "source": [
        "code_dict = {}\nfor code in data['DEFECT'].unique():\n    if code.startswith('S'):\n        code_dict[code] = random.choice(\n            ['QST Rej', 'HDD Rej', 'DP Rej', 'VM Rej'])\n\nfig2 = defectmap(data, 'DEFECT', code_dict=code_dict)"
      ]
    }
  ],
  "metadata": {
    "kernelspec": {
      "display_name": "Python 3",
      "language": "python",
      "name": "python3"
    },
    "language_info": {
      "codemirror_mode": {
        "name": "ipython",
        "version": 3
      },
      "file_extension": ".py",
      "mimetype": "text/x-python",
      "name": "python",
      "nbconvert_exporter": "python",
      "pygments_lexer": "ipython3",
      "version": "3.9.12"
    }
  },
  "nbformat": 4,
  "nbformat_minor": 0
}