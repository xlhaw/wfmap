{
  "cells": [
    {
      "cell_type": "code",
      "execution_count": null,
      "metadata": {
        "collapsed": false
      },
      "outputs": [],
      "source": [
        "%matplotlib inline"
      ]
    },
    {
      "cell_type": "markdown",
      "metadata": {},
      "source": [
        "\nWIF Trend `wif_trend`\n=================================\n> Wafer Trend Charts by Flash Field For Single Variable\n\nWIF Trend gives you a clear view of within flash field & field to field tendency and distribution. Anormal waving or mountain shape pattern and shot-jump pattern could be easily spotted with this chart.\nBlue line is median trend by default which is less impacted by outliers, and orange area indicates the major distribution at the same `WIF_COL`.\n"
      ]
    },
    {
      "cell_type": "code",
      "execution_count": null,
      "metadata": {
        "collapsed": false
      },
      "outputs": [],
      "source": [
        "from wfmap.data import load_data\nfrom wfmap import wif_trend\n\ndata = load_data()\nfig = wif_trend(data, 'MR')"
      ]
    },
    {
      "cell_type": "markdown",
      "metadata": {},
      "source": [
        "The size of orange area is determined by `majority`, which means the center percentage of the whole distribution. To achieve similar quantile as boxplot could set `majority=50`.\n\n"
      ]
    },
    {
      "cell_type": "code",
      "execution_count": null,
      "metadata": {
        "collapsed": false
      },
      "outputs": [],
      "source": [
        "fig2 = wif_trend(data, 'MR', majority=50)"
      ]
    }
  ],
  "metadata": {
    "kernelspec": {
      "display_name": "Python 3",
      "language": "python",
      "name": "python3"
    },
    "language_info": {
      "codemirror_mode": {
        "name": "ipython",
        "version": 3
      },
      "file_extension": ".py",
      "mimetype": "text/x-python",
      "name": "python",
      "nbconvert_exporter": "python",
      "pygments_lexer": "ipython3",
      "version": "3.9.12"
    }
  },
  "nbformat": 4,
  "nbformat_minor": 0
}