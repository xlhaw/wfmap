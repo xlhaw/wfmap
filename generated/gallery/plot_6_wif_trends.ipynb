{
  "cells": [
    {
      "cell_type": "code",
      "execution_count": null,
      "metadata": {
        "collapsed": false
      },
      "outputs": [],
      "source": [
        "%matplotlib inline"
      ]
    },
    {
      "cell_type": "markdown",
      "metadata": {},
      "source": [
        "\nWIF Trends `wif_trends`\n=================================\n> Wafer Trend Charts by Flash Field For Multiple Variables\n\nSlightly different from `wif_trend`, WIF Trends removes the orange area highlight for major distribution and focus on the median trend comparison between different variables. Further, for the sake of brevity and aesthetics, max number of variables to plot is limited to 4.\n\nBelow is an example trend chart of the wafer level MR Resistence for both R1 & R2. Please be noted this chart is only recommended for variables which share similar range. When the mean or sigma is much different, please consider using the `twin_trends` instead.\n"
      ]
    },
    {
      "cell_type": "code",
      "execution_count": null,
      "metadata": {
        "collapsed": false
      },
      "outputs": [],
      "source": [
        "from wfmap.data import load_data\nfrom wfmap import wif_trends\n\ndata = load_data()\nfig = wif_trends(data, ['MR', 'MR2'])"
      ]
    }
  ],
  "metadata": {
    "kernelspec": {
      "display_name": "Python 3",
      "language": "python",
      "name": "python3"
    },
    "language_info": {
      "codemirror_mode": {
        "name": "ipython",
        "version": 3
      },
      "file_extension": ".py",
      "mimetype": "text/x-python",
      "name": "python",
      "nbconvert_exporter": "python",
      "pygments_lexer": "ipython3",
      "version": "3.7.4"
    }
  },
  "nbformat": 4,
  "nbformat_minor": 0
}