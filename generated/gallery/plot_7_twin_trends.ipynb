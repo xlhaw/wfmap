{
  "cells": [
    {
      "cell_type": "code",
      "execution_count": null,
      "metadata": {
        "collapsed": false
      },
      "outputs": [],
      "source": [
        "%matplotlib inline"
      ]
    },
    {
      "cell_type": "markdown",
      "metadata": {},
      "source": [
        "\nTwinY Trends `twin_trends`\n=================================\n> Wafer Trend Charts by Flash Field with Dual Y-axis\n\nHave the advantage of double Y-axis, we're able to put two very different variables into same subplot for comparison. Take below chart for example, there's ~200ohm gap between `MR` &  `MRR`, yet two variables have similar sigma. You can find that `MR` basically overlaps with  `MRR`, the correlation between `MR` &  `MRR could be easily deduced from this chart.\n"
      ]
    },
    {
      "cell_type": "code",
      "execution_count": null,
      "metadata": {
        "collapsed": false
      },
      "outputs": [],
      "source": [
        "from wfmap.data import load_data\nfrom wfmap import twin_trends\nimport scipy.stats.distributions as dist\n\ndata = load_data().query('80<MR<180')\nnorm = dist.norm_gen()\ndata['MRR'] = 200 + data['MR'] + \\\n    norm.rvs(data['MR'].median(), data['MR'].std(), size=len(data['MR']))\n\nfig = twin_trends(data, 'MR', 'MRR')"
      ]
    },
    {
      "cell_type": "code",
      "execution_count": null,
      "metadata": {
        "collapsed": false
      },
      "outputs": [],
      "source": [
        "# When two variables not only have very different mean, the sigma is also not at the same level. The scale could no longer keep the same for Y & 2nd-Y axis, then need to adjust it as `fix_scale=False`.\n\nfig2 = twin_trends(data, 'MR', 'HDI', fix_scale=False)"
      ]
    }
  ],
  "metadata": {
    "kernelspec": {
      "display_name": "Python 3",
      "language": "python",
      "name": "python3"
    },
    "language_info": {
      "codemirror_mode": {
        "name": "ipython",
        "version": 3
      },
      "file_extension": ".py",
      "mimetype": "text/x-python",
      "name": "python",
      "nbconvert_exporter": "python",
      "pygments_lexer": "ipython3",
      "version": "3.9.12"
    }
  },
  "nbformat": 4,
  "nbformat_minor": 0
}