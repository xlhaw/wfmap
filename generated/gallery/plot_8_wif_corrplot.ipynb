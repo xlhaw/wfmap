{
  "cells": [
    {
      "cell_type": "code",
      "execution_count": null,
      "metadata": {
        "collapsed": false
      },
      "outputs": [],
      "source": [
        "%matplotlib inline"
      ]
    },
    {
      "cell_type": "markdown",
      "metadata": {},
      "source": [
        "\nWIF Corrrelation Plot `wif_corrplot`\n=================================\n> Corrrelation Plot by Flash Field Between Two Variables\n\n`wif_corrplot` is created to further investigate relationship between two variables. Beside the basic scatterplot, regression fitting line and R_squared annotation are both included.\n"
      ]
    },
    {
      "cell_type": "code",
      "execution_count": null,
      "metadata": {
        "collapsed": false
      },
      "outputs": [],
      "source": [
        "from wfmap.data import load_data\nfrom wfmap import wif_corrplot\nimport scipy.stats.distributions as dist\n\ndata = load_data().query('80<MR<180')\nnorm = dist.norm_gen()\n\ndata['Fit'] = data['MR'] + \\\n    norm.rvs(data['MR'].median(), data['MR'].std(), size=len(data['MR']))\nfig = wif_corrplot(data, 'MR', 'Fit')"
      ]
    },
    {
      "cell_type": "markdown",
      "metadata": {},
      "source": [
        "Linear regression is applied by default, while polynomial fit is also supported, modify the `fit_deg` to see the outcome.\n\n"
      ]
    },
    {
      "cell_type": "code",
      "execution_count": null,
      "metadata": {
        "collapsed": false
      },
      "outputs": [],
      "source": [
        "data['Fit2'] = (data['MR']-data['MR'].median())**2 + data['MR'] * \\\n    norm.rvs(data['MR'].median(), data['MR'].std(), size=len(data['MR']))\nfig2 = wif_corrplot(data, 'MR', 'Fit2', fit_deg=2)"
      ]
    }
  ],
  "metadata": {
    "kernelspec": {
      "display_name": "Python 3",
      "language": "python",
      "name": "python3"
    },
    "language_info": {
      "codemirror_mode": {
        "name": "ipython",
        "version": 3
      },
      "file_extension": ".py",
      "mimetype": "text/x-python",
      "name": "python",
      "nbconvert_exporter": "python",
      "pygments_lexer": "ipython3",
      "version": "3.7.4"
    }
  },
  "nbformat": 4,
  "nbformat_minor": 0
}